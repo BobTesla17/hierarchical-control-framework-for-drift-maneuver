{
 "cells": [
  {
   "cell_type": "code",
   "execution_count": 1,
   "id": "faa979a2-5284-437f-b1a3-50e837dab03f",
   "metadata": {},
   "outputs": [
    {
     "name": "stderr",
     "output_type": "stream",
     "text": [
      "┌ Warning: Message type 'Bool' conflicts with Julia builtin, will be imported as 'BoolMsg'\n",
      "└ @ RobotOS /home/yangbo/.julia/packages/RobotOS/j0Tsl/src/gentypes.jl:181\n",
      "┌ Warning: Message type 'Float64' conflicts with Julia builtin, will be imported as 'Float64Msg'\n",
      "└ @ RobotOS /home/yangbo/.julia/packages/RobotOS/j0Tsl/src/gentypes.jl:181\n"
     ]
    },
    {
     "name": "stdout",
     "output_type": "stream",
     "text": [
      "\n",
      "******************************************************************************\n",
      "This program contains Ipopt, a library for large-scale nonlinear optimization.\n",
      " Ipopt is released as open source code under the Eclipse Public License (EPL).\n",
      "         For more information visit https://github.com/coin-or/Ipopt\n",
      "******************************************************************************\n",
      "\n",
      "complete initialization\n",
      " 42.464804 seconds (158.69 M allocations: 9.758 GiB, 6.76% gc time, 0.00% compilation time)\n"
     ]
    }
   ],
   "source": [
    "@time include(\"ready.jl\")"
   ]
  },
  {
   "cell_type": "code",
   "execution_count": null,
   "id": "41d79e50-f55e-41b4-a248-7477358c1cce",
   "metadata": {},
   "outputs": [],
   "source": [
    "β_controller = PID(Kp=1.0, Ki=0.0006, Kd=50.0, sign=1)\n",
    "R_controller = PID(Kp=5.0, Ki=0.05, Kd=5.0, sign=-1)\n",
    "phase = 1\n",
    "t1 = 0\n",
    "t12 = 0\n",
    "\n",
    "reference.R_ref = 1.0\n",
    "reference.β_ref = -1.2\n",
    "Cx = 0\n",
    "Cy = 0\n",
    "\n",
    "\n",
    "function control_fn!(i, state, input, exstate, reference, robo)\n",
    "\n",
    "    R0 = 1.0\n",
    "    β = exstate.β\n",
    "    R = exstate.R\n",
    "    R_ref = reference.R_ref\n",
    "    β_ref = reference.β_ref\n",
    "    \n",
    "    δ_ff = 0.05\n",
    "    ω_ff = 4.0\n",
    "    ω0 = input.ω\n",
    "    \n",
    "    err = round_angle(β - β_ref)\n",
    "    δ = clamp(δ_ff + controla!(β_controller, err), 0, π / 8)\n",
    "    \n",
    "    s = state\n",
    "    \n",
    "    if i > 0\n",
    "        Cx = 0\n",
    "        Cy = 0\n",
    "    end\n",
    "    \n",
    "    if i % 2 == 0\n",
    "        if i > 700\n",
    "            θ1 = atan(Cy - s.y, Cx - s.x)\n",
    "            θ2 = atan(s.vy, s.vx)\n",
    "            Δθ = round_angle(θ1 - θ2)\n",
    "            dis = sqrt((s.x - Cx) ^ 2 + (s.y - Cy) ^ 2)\n",
    "            ΔR = 0.5 * cos(Δθ)\n",
    "            R_ref = R0 + ΔR\n",
    "            reference.R_ref = R_ref\n",
    "        end\n",
    "        if i < 700\n",
    "            #R_l1ac = L1AC!(l1ac, convert(Float64,R_ref), est_circle.r, 0.10)\n",
    "            #reference.R_l1ac = R_l1ac\n",
    "            ω0 = 3.5\n",
    "           #err = R - R_ref\n",
    "           #ω0 = clamp(ω_ff + controla!(R_controller,err),3,7)\n",
    "        else\n",
    "            err = R - R_ref\n",
    "            ω0 = clamp(ω_ff + controla!(R_controller,err),3,7)\n",
    "        end\n",
    "    end\n",
    "    ω = ω0\n",
    "    return δ, ω\n",
    "end\n",
    "\n",
    "function reset_fn()\n",
    "    β_controller.err_sum = 0\n",
    "    β_controller.last_err = 0\n",
    "    R_controller.err_sum = 0\n",
    "    R_controller.last_err = 0\n",
    "    phase = 1\n",
    "    reference.R_ref = 1.0\n",
    "    reference.β_ref = -1.2\n",
    "    Cx = 0\n",
    "    Cy = 0\n",
    "end\n",
    "\n",
    "init_node(\"Controller\", disable_signals=true)\n",
    "sub1 = Subscriber{RosMsg.PoseStamped}(\"/vrpn_client_node/racecar/pose\", update_rts, queue_size=1)\n",
    "sub2 = Subscriber{RosMsg.Imu}(\"/imu\", update_imu, queue_size=1)\n",
    "sub3 = Subscriber{RosMsg.BoolMsg}(\"/Safe\", update_safe, queue_size=1)\n",
    "sub4 = Subscriber{RosMsg.PoseStamped}(\"/vrpn_client_node/robomaster/pose\", update_robo, queue_size=1)\n",
    "pub = Publisher{RosMsg.VescCtrlStamped}(\"/vesc/ctrl\", queue_size=1)\n",
    "data = control_wrapper(pub, control_fn!, reset_fn);"
   ]
  },
  {
   "cell_type": "code",
   "execution_count": null,
   "id": "97b28747-5271-40a8-b6a5-cc939960ebc3",
   "metadata": {},
   "outputs": [],
   "source": [
    "p1 = plot([p.es.β for p in data],label=\"β\")\n",
    "plot!(p1, [p.ref.β_ref for p in data],label=\"β_ref\")\n",
    "p2 = plot([p.es.R for p in data],label=\"R\")\n",
    "plot!(p2, [p.ref.R_ref for p in data],label=\"R_ref\")\n",
    "ylims!(p1,-2,0)\n",
    "ylims!(p2,0,5)\n",
    "plot(p1,p2,size = (2800, 1400),xtickfontsize=50,ytickfontsize=50,legendfontsize=50,width=5)"
   ]
  }
 ],
 "metadata": {
  "kernelspec": {
   "display_name": "Julia 1.6.2",
   "language": "julia",
   "name": "julia-1.6"
  },
  "language_info": {
   "file_extension": ".jl",
   "mimetype": "application/julia",
   "name": "julia",
   "version": "1.6.2"
  }
 },
 "nbformat": 4,
 "nbformat_minor": 5
}
